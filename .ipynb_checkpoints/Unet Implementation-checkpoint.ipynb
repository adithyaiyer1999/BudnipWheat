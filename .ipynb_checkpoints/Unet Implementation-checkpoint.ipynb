{
 "cells": [
  {
   "cell_type": "code",
   "execution_count": null,
   "metadata": {},
   "outputs": [],
   "source": []
  },
  {
   "cell_type": "code",
   "execution_count": 1,
   "metadata": {},
   "outputs": [],
   "source": [
    "import torch\n",
    "import torchvision\n",
    "import torchvision.transforms as transforms\n",
    "import torch.nn as nn\n",
    "import torch.optim as optim\n",
    "from torch.autograd import Variable\n",
    "import torch.nn.functional as F\n",
    "import torch.utils.data as td\n",
    "import numpy as np\n",
    "import os\n",
    "import random\n",
    "from PIL import Image\n",
    "from scripts.unet_model import *"
   ]
  },
  {
   "cell_type": "code",
   "execution_count": 2,
   "metadata": {},
   "outputs": [],
   "source": [
    "image_dir = '/application/pi/Desktop/all imp data/Unet_training/images/'\n",
    "mask_dir = '/application/pi/Desktop/all imp data/Unet_training/masks/'"
   ]
  },
  {
   "cell_type": "code",
   "execution_count": 3,
   "metadata": {},
   "outputs": [],
   "source": [
    "class PlaneDataSet(td.Dataset):\n",
    "    \n",
    "    def __init__(self, image_path, mask_path):\n",
    "        import os\n",
    "        \n",
    "        self.image_path = image_path\n",
    "        \n",
    "        self.mask_path = mask_path\n",
    "        c = os.listdir(mask_path)\n",
    "        c.remove('.ipynb_checkpoints')\n",
    "        self.filenames = c\n",
    "        \n",
    "        self.filenames \n",
    "    def __getitem__(self, index):\n",
    "        \n",
    "        # Get a random intenger between 1 and 2\n",
    "        rand = random.randint(0, 2)     \n",
    "        \n",
    "        #Load the image\n",
    "        img_path = os.path.join(self.image_path, self.filenames[index])\n",
    "        image =  np.load(img_path)\n",
    "        \n",
    "        # Normalize the image pixels between 0 and 1\n",
    "        image_np = image\n",
    "        \n",
    "        # Randomly flip the image half the time\n",
    "#         if rand > 1:\n",
    "#             image_pil = Image.fromarray(image_np).transpose(Image.FLIP_LEFT_RIGHT).convert(\"L\")          \n",
    "#             image_np = np.array(image_pil)\n",
    "        \n",
    "        # Add a dimension and convert to a tensor\n",
    "        #image_np = np.expand_dims(image_np, axis=0)\n",
    "        image_tensor = torch.Tensor(image_np)\n",
    "        \n",
    "        # Now do all the same stuff to the mask image\n",
    "        mask_path = os.path.join(self.mask_path, self.filenames[index])\n",
    "        mask =  np.load(mask_path)\n",
    "        #mask_np = mask\n",
    "        mask_np = np.expand_dims(mask, axis=0)\n",
    "        mask_tensor = torch.Tensor(mask_np)\n",
    "        \n",
    "        return(image_tensor, mask_tensor)\n",
    "    \n",
    "    def __len__(self):\n",
    "        return len(self.filenames)"
   ]
  },
  {
   "cell_type": "code",
   "execution_count": 4,
   "metadata": {},
   "outputs": [],
   "source": [
    "def load_data(image_path, mask_path):\n",
    "\n",
    "    # Load all of the images, transforming them\n",
    "    dataset = PlaneDataSet(image_path , mask_path)\n",
    "    \n",
    "    train_size = int(0.8 * len(dataset))\n",
    "    test_size = len(dataset) - train_size\n",
    "    train_dataset, test_dataset = torch.utils.data.random_split(dataset, [train_size, test_size])\n",
    "    # define a loader for the image data\n",
    "    image_loader = torch.utils.data.DataLoader(\n",
    "        dataset,\n",
    "        batch_size=4,\n",
    "        num_workers=0,\n",
    "        shuffle=True,\n",
    "    )\n",
    "    train_loader = torch.utils.data.DataLoader(\n",
    "        train_dataset,\n",
    "        batch_size=4,\n",
    "        num_workers=0,\n",
    "        shuffle=True,\n",
    "    )\n",
    "    test_loader = torch.utils.data.DataLoader(\n",
    "        test_dataset,\n",
    "        batch_size=4,\n",
    "        num_workers=0,\n",
    "        shuffle=True,\n",
    "    )\n",
    "    return image_loader, train_loader, test_loader\n",
    "\n",
    "image_loader, train_loader, test_loader = load_data(image_dir, mask_dir)"
   ]
  },
  {
   "cell_type": "code",
   "execution_count": 5,
   "metadata": {},
   "outputs": [
    {
     "data": {
      "text/plain": [
       "480"
      ]
     },
     "execution_count": 5,
     "metadata": {},
     "output_type": "execute_result"
    }
   ],
   "source": [
    "type(image_loader)\n",
    "len(image_loader.dataset)\n",
    "len(image_loader.dataset.filenames)"
   ]
  },
  {
   "cell_type": "code",
   "execution_count": 6,
   "metadata": {},
   "outputs": [
    {
     "name": "stdout",
     "output_type": "stream",
     "text": [
      "<class 'torch.utils.data.dataloader.DataLoader'>\n"
     ]
    },
    {
     "data": {
      "text/plain": [
       "384"
      ]
     },
     "execution_count": 6,
     "metadata": {},
     "output_type": "execute_result"
    }
   ],
   "source": [
    "print(type(train_loader))\n",
    "len(train_loader.dataset)\n"
   ]
  },
  {
   "cell_type": "code",
   "execution_count": 7,
   "metadata": {},
   "outputs": [
    {
     "data": {
      "text/plain": [
       "96"
      ]
     },
     "execution_count": 7,
     "metadata": {},
     "output_type": "execute_result"
    }
   ],
   "source": [
    "type(test_loader)\n",
    "len(test_loader.dataset)\n"
   ]
  },
  {
   "cell_type": "code",
   "execution_count": 11,
   "metadata": {},
   "outputs": [
    {
     "name": "stdout",
     "output_type": "stream",
     "text": [
      "--2020-05-19 17:04:31--  https://aka.ms/unet-pt\n",
      "Resolving aka.ms (aka.ms)... 104.102.53.13\n",
      "Connecting to aka.ms (aka.ms)|104.102.53.13|:443... connected.\n",
      "HTTP request sent, awaiting response... 301 Moved Permanently\n",
      "Location: https://onedrive.live.com/download?cid=783D202C58C75CC2&resid=783D202C58C75CC2%21106&authkey=AC-jDrEgK0Phd6E [following]\n",
      "--2020-05-19 17:04:31--  https://onedrive.live.com/download?cid=783D202C58C75CC2&resid=783D202C58C75CC2%21106&authkey=AC-jDrEgK0Phd6E\n",
      "Resolving onedrive.live.com (onedrive.live.com)... 13.107.42.13\n",
      "Connecting to onedrive.live.com (onedrive.live.com)|13.107.42.13|:443... connected.\n",
      "HTTP request sent, awaiting response... 302 Found\n",
      "Location: https://asm0nq.bn.files.1drv.com/y4mCNiGIl_J1vKQeYxOKkcyGFnAKwaCoC3V6YIOV8wMoVpd9noT6bRzvnD39AtwBJ2Owr-3auTZcUMgIIZhgwza6OIdKfpR91AO88Tv1iyEdD-ael06P9No574XiCVTm4KwrgqHIbQp2i3-vJRPvdG8-AGlyCQZo6U9ANVY-bl6fT_D8y5h5j9ioOSZlGi1jk1JjOrdOC2WcFGnFLQ-ZuK2Eg/unet.pt?download&psid=1 [following]\n",
      "--2020-05-19 17:04:32--  https://asm0nq.bn.files.1drv.com/y4mCNiGIl_J1vKQeYxOKkcyGFnAKwaCoC3V6YIOV8wMoVpd9noT6bRzvnD39AtwBJ2Owr-3auTZcUMgIIZhgwza6OIdKfpR91AO88Tv1iyEdD-ael06P9No574XiCVTm4KwrgqHIbQp2i3-vJRPvdG8-AGlyCQZo6U9ANVY-bl6fT_D8y5h5j9ioOSZlGi1jk1JjOrdOC2WcFGnFLQ-ZuK2Eg/unet.pt?download&psid=1\n",
      "Resolving asm0nq.bn.files.1drv.com (asm0nq.bn.files.1drv.com)... 13.107.42.12\n",
      "Connecting to asm0nq.bn.files.1drv.com (asm0nq.bn.files.1drv.com)|13.107.42.12|:443... connected.\n",
      "HTTP request sent, awaiting response... 200 OK\n",
      "Length: 53632920 (51M) [application/octet-stream]\n",
      "Saving to: '/application/pi/unet.pt'\n",
      "\n",
      "100%[======================================>] 53,632,920   386KB/s   in 2m 11s \n",
      "\n",
      "2020-05-19 17:06:44 (399 KB/s) - '/application/pi/unet.pt' saved [53632920/53632920]\n",
      "\n"
     ]
    }
   ],
   "source": [
    "!wget \"https://aka.ms/unet-pt\" -O ~/unet.pt"
   ]
  },
  {
   "cell_type": "code",
   "execution_count": 8,
   "metadata": {},
   "outputs": [],
   "source": [
    "def train(model, device, data_loader, optimizer, epoch):\n",
    "    \n",
    "    model.to(device)\n",
    "    model.train()\n",
    "    \n",
    "    train_loss = 0\n",
    "    print(\"Epoch:\", epoch, \"...\")\n",
    "    # Process the images in batches\n",
    "    for batch_idx, (data, target) in enumerate(data_loader):\n",
    "        \n",
    "        \n",
    "        data, target = data.to(device), target.to(device)\n",
    "        \n",
    "        # Reset the optimizer\n",
    "        optimizer.zero_grad()\n",
    "        \n",
    "        # Push the data forward through the model layers\n",
    "        output = model(data)\n",
    "        \n",
    "        # Get the loss\n",
    "        loss = loss_criteria(output, target)\n",
    "        \n",
    "        # Keep a running total\n",
    "        train_loss += loss.item()\n",
    "        print('loss =', loss.item())\n",
    "        # Backpropagate\n",
    "        loss.backward()\n",
    "        optimizer.step()\n",
    "        print('loss =', loss.item(),' number',batch_idx)\n",
    "        \n",
    "    # return average loss for the epoch\n",
    "    avg_training_loss = train_loss / (batch_idx+1)\n",
    "    print(\"\\tTraining set: Average loss: {:.6f}\".format(avg_training_loss))\n",
    "    return avg_training_loss\n"
   ]
  },
  {
   "cell_type": "code",
   "execution_count": 9,
   "metadata": {},
   "outputs": [
    {
     "name": "stdout",
     "output_type": "stream",
     "text": [
      "Training on cpu\n",
      "Epoch: 1 ...\n",
      "loss = 0.7438763380050659\n",
      "loss = 0.7438763380050659  number 0\n",
      "loss = 0.6471074223518372\n",
      "loss = 0.6471074223518372  number 1\n",
      "loss = 0.5523465871810913\n",
      "loss = 0.5523465871810913  number 2\n",
      "loss = 0.6074388027191162\n",
      "loss = 0.6074388027191162  number 3\n",
      "loss = 0.49105745553970337\n",
      "loss = 0.49105745553970337  number 4\n",
      "loss = 0.4249446988105774\n",
      "loss = 0.4249446988105774  number 5\n",
      "loss = 0.37261658906936646\n",
      "loss = 0.37261658906936646  number 6\n",
      "loss = 0.42533746361732483\n",
      "loss = 0.42533746361732483  number 7\n",
      "loss = 0.40320834517478943\n",
      "loss = 0.40320834517478943  number 8\n",
      "loss = 0.49257659912109375\n",
      "loss = 0.49257659912109375  number 9\n",
      "loss = 0.46448391675949097\n",
      "loss = 0.46448391675949097  number 10\n",
      "loss = 0.36009711027145386\n",
      "loss = 0.36009711027145386  number 11\n",
      "loss = 0.3748602867126465\n",
      "loss = 0.3748602867126465  number 12\n",
      "loss = 0.39668288826942444\n",
      "loss = 0.39668288826942444  number 13\n",
      "loss = 0.44627630710601807  number 14\n",
      "loss = 0.37323182821273804\n",
      "loss = 0.37323182821273804  number 15\n",
      "loss = 0.4393845796585083\n",
      "loss = 0.4393845796585083  number 16\n",
      "loss = 0.4332696199417114\n",
      "loss = 0.4332696199417114  number 17\n",
      "loss = 0.41120800375938416\n",
      "loss = 0.41120800375938416  number 18\n",
      "loss = 0.4145860970020294\n",
      "loss = 0.4145860970020294  number 19\n",
      "loss = 0.4470135569572449\n",
      "loss = 0.4470135569572449  number 20\n",
      "loss = 0.4272235333919525\n",
      "loss = 0.4272235333919525  number 21\n",
      "loss = 0.33417755365371704\n",
      "loss = 0.33417755365371704  number 22\n",
      "loss = 0.3696548044681549\n",
      "loss = 0.3696548044681549  number 23\n",
      "loss = 0.371337354183197\n",
      "loss = 0.371337354183197  number 24\n",
      "loss = 0.38624459505081177\n",
      "loss = 0.38624459505081177  number 25\n",
      "loss = 0.3422190546989441\n",
      "loss = 0.3422190546989441  number 26\n",
      "loss = 0.3157775104045868\n",
      "loss = 0.3157775104045868  number 27\n",
      "loss = 0.39313361048698425\n",
      "loss = 0.39313361048698425  number 28\n",
      "loss = 0.33486899733543396\n",
      "loss = 0.33486899733543396  number 29\n",
      "loss = 0.3100548982620239\n",
      "loss = 0.3100548982620239  number 30\n",
      "loss = 0.33768174052238464\n",
      "loss = 0.33768174052238464  number 31\n",
      "loss = 0.3125895857810974\n",
      "loss = 0.3125895857810974  number 32\n",
      "loss = 0.3027624785900116\n",
      "loss = 0.3027624785900116  number 33\n",
      "loss = 0.29261863231658936\n",
      "loss = 0.29261863231658936  number 34\n",
      "loss = 0.252869188785553\n",
      "loss = 0.252869188785553  number 35\n",
      "loss = 0.3769674301147461\n",
      "loss = 0.3769674301147461  number 36\n",
      "loss = 0.3610829710960388\n",
      "loss = 0.3610829710960388  number 37\n",
      "loss = 0.2886413633823395\n",
      "loss = 0.2886413633823395  number 38\n",
      "loss = 0.2611372768878937\n",
      "loss = 0.2611372768878937  number 39\n",
      "loss = 0.3339610695838928\n",
      "loss = 0.3339610695838928  number 40\n",
      "loss = 0.39368218183517456\n",
      "loss = 0.39368218183517456  number 41\n",
      "loss = 0.3581996560096741\n",
      "loss = 0.3581996560096741  number 42\n",
      "loss = 0.301985502243042\n",
      "loss = 0.301985502243042  number 43\n",
      "loss = 0.2933286130428314\n",
      "loss = 0.2933286130428314  number 44\n",
      "loss = 0.2612265348434448\n",
      "loss = 0.2612265348434448  number 45\n",
      "loss = 0.351128488779068\n",
      "loss = 0.351128488779068  number 46\n",
      "loss = 0.3015787601470947\n",
      "loss = 0.3015787601470947  number 47\n",
      "loss = 0.2885492742061615\n",
      "loss = 0.2885492742061615  number 48\n",
      "loss = 0.27690836787223816\n",
      "loss = 0.27690836787223816  number 49\n",
      "loss = 0.22274258732795715\n",
      "loss = 0.22274258732795715  number 50\n",
      "loss = 0.2255445122718811\n",
      "loss = 0.2255445122718811  number 51\n",
      "loss = 0.2606803774833679\n",
      "loss = 0.2606803774833679  number 52\n",
      "loss = 0.22696134448051453\n",
      "loss = 0.22696134448051453  number 53\n",
      "loss = 0.23989370465278625\n",
      "loss = 0.23989370465278625  number 54\n",
      "loss = 0.30117663741111755\n",
      "loss = 0.30117663741111755  number 55\n",
      "loss = 0.27335745096206665\n",
      "loss = 0.27335745096206665  number 56\n",
      "loss = 0.2256503850221634\n",
      "loss = 0.2256503850221634  number 57\n",
      "loss = 0.24707259237766266\n",
      "loss = 0.24707259237766266  number 58\n",
      "loss = 0.29803961515426636\n",
      "loss = 0.29803961515426636  number 59\n",
      "loss = 0.19299110770225525\n",
      "loss = 0.19299110770225525  number 60\n",
      "loss = 0.21838197112083435\n",
      "loss = 0.21838197112083435  number 61\n",
      "loss = 0.25026756525039673\n",
      "loss = 0.25026756525039673  number 62\n",
      "loss = 0.267438679933548\n",
      "loss = 0.267438679933548  number 63\n",
      "loss = 0.2544153928756714\n",
      "loss = 0.2544153928756714  number 64\n",
      "loss = 0.2944529056549072\n",
      "loss = 0.2944529056549072  number 65\n",
      "loss = 0.24463008344173431\n",
      "loss = 0.24463008344173431  number 66\n",
      "loss = 0.2129543125629425\n",
      "loss = 0.2129543125629425  number 67\n",
      "loss = 0.24024224281311035\n",
      "loss = 0.24024224281311035  number 68\n",
      "loss = 0.40153348445892334\n",
      "loss = 0.40153348445892334  number 69\n",
      "loss = 0.29169636964797974\n",
      "loss = 0.29169636964797974  number 70\n",
      "loss = 0.24383655190467834\n",
      "loss = 0.24383655190467834  number 71\n",
      "loss = 0.18728384375572205\n",
      "loss = 0.18728384375572205  number 72\n",
      "loss = 0.37386202812194824\n",
      "loss = 0.37386202812194824  number 73\n",
      "loss = 0.2727384865283966\n",
      "loss = 0.2727384865283966  number 74\n",
      "loss = 0.2521398663520813\n",
      "loss = 0.2521398663520813  number 75\n",
      "loss = 0.37063583731651306\n",
      "loss = 0.37063583731651306  number 76\n",
      "loss = 0.219012051820755\n",
      "loss = 0.219012051820755  number 77\n",
      "loss = 0.20875120162963867\n",
      "loss = 0.20875120162963867  number 78\n",
      "loss = 0.2240762710571289\n",
      "loss = 0.2240762710571289  number 79\n",
      "loss = 0.3720090389251709\n",
      "loss = 0.3720090389251709  number 80\n",
      "loss = 0.45231562852859497\n",
      "loss = 0.45231562852859497  number 81\n",
      "loss = 0.2795110046863556\n",
      "loss = 0.2795110046863556  number 82\n",
      "loss = 0.26430046558380127\n",
      "loss = 0.26430046558380127  number 83\n",
      "loss = 0.2704669237136841\n",
      "loss = 0.2704669237136841  number 84\n",
      "loss = 0.22695648670196533\n",
      "loss = 0.22695648670196533  number 85\n",
      "loss = 0.2925861179828644\n",
      "loss = 0.2925861179828644  number 86\n",
      "loss = 0.28390371799468994\n",
      "loss = 0.28390371799468994  number 87\n",
      "loss = 0.31749236583709717\n",
      "loss = 0.31749236583709717  number 88\n",
      "loss = 0.2517043352127075\n",
      "loss = 0.2517043352127075  number 89\n",
      "loss = 0.2513265311717987\n",
      "loss = 0.2513265311717987  number 90\n",
      "loss = 0.24777087569236755\n",
      "loss = 0.24777087569236755  number 91\n",
      "loss = 0.26555049419403076\n",
      "loss = 0.26555049419403076  number 92\n",
      "loss = 0.22372090816497803\n",
      "loss = 0.22372090816497803  number 93\n",
      "loss = 0.23905731737613678\n",
      "loss = 0.23905731737613678  number 94\n",
      "loss = 0.2369547188282013\n",
      "loss = 0.2369547188282013  number 95\n",
      "\tTraining set: Average loss: 0.327826\n"
     ]
    }
   ],
   "source": [
    "# Create a UNet model\n",
    "model = UNet(n_channels=12, n_classes = 1)\n",
    "\n",
    "# Use the best available device (GPU/CPU) for training\n",
    "device = 'cuda' if torch.cuda.is_available() else 'cpu'\n",
    "\n",
    "# # Load the weights\n",
    "# home = os.path.expanduser(\"~\")\n",
    "# weights_file = os.path.join(home, \"unet.pt\")\n",
    "#model.load_state_dict(torch.load('/application/pi/unet_trained_new.pt', map_location=device))\n",
    "\n",
    "# Specify the optimizer and  loss criteria\n",
    "optimizer = optim.RMSprop(model.parameters(), lr=0.001)\n",
    "loss_criteria = nn.BCELoss()\n",
    "\n",
    "# Track metrics in these arrays\n",
    "epoch_nums = []\n",
    "training_loss = []\n",
    "\n",
    "epochs = 1\n",
    "print('Training on', device)\n",
    "for epoch in range(1, epochs + 1):\n",
    "        train_loss = train(model, device, train_loader, optimizer, epoch)\n",
    "        epoch_nums.append(epoch)\n",
    "        training_loss.append(train_loss)"
   ]
  },
  {
   "cell_type": "code",
   "execution_count": 10,
   "metadata": {},
   "outputs": [],
   "source": [
    "torch.save(model.state_dict(), '/application/pi/unet_trained_new.pt')"
   ]
  },
  {
   "cell_type": "code",
   "execution_count": 11,
   "metadata": {},
   "outputs": [],
   "source": [
    "#!conda install matplotlib\n"
   ]
  },
  {
   "cell_type": "code",
   "execution_count": 12,
   "metadata": {},
   "outputs": [],
   "source": [
    "#model(test_loader.dataset[6][0])"
   ]
  },
  {
   "cell_type": "code",
   "execution_count": 14,
   "metadata": {},
   "outputs": [
    {
     "data": {
      "text/plain": [
       "UNet(\n",
       "  (inc): inconv(\n",
       "    (conv): double_conv(\n",
       "      (conv): Sequential(\n",
       "        (0): Conv2d(12, 64, kernel_size=(3, 3), stride=(1, 1), padding=(1, 1))\n",
       "        (1): BatchNorm2d(64, eps=1e-05, momentum=0.1, affine=True, track_running_stats=True)\n",
       "        (2): ReLU(inplace=True)\n",
       "        (3): Conv2d(64, 64, kernel_size=(3, 3), stride=(1, 1), padding=(1, 1))\n",
       "        (4): BatchNorm2d(64, eps=1e-05, momentum=0.1, affine=True, track_running_stats=True)\n",
       "        (5): ReLU(inplace=True)\n",
       "      )\n",
       "    )\n",
       "  )\n",
       "  (down1): down(\n",
       "    (mpconv): Sequential(\n",
       "      (0): MaxPool2d(kernel_size=2, stride=2, padding=0, dilation=1, ceil_mode=False)\n",
       "      (1): double_conv(\n",
       "        (conv): Sequential(\n",
       "          (0): Conv2d(64, 128, kernel_size=(3, 3), stride=(1, 1), padding=(1, 1))\n",
       "          (1): BatchNorm2d(128, eps=1e-05, momentum=0.1, affine=True, track_running_stats=True)\n",
       "          (2): ReLU(inplace=True)\n",
       "          (3): Conv2d(128, 128, kernel_size=(3, 3), stride=(1, 1), padding=(1, 1))\n",
       "          (4): BatchNorm2d(128, eps=1e-05, momentum=0.1, affine=True, track_running_stats=True)\n",
       "          (5): ReLU(inplace=True)\n",
       "        )\n",
       "      )\n",
       "    )\n",
       "  )\n",
       "  (down2): down(\n",
       "    (mpconv): Sequential(\n",
       "      (0): MaxPool2d(kernel_size=2, stride=2, padding=0, dilation=1, ceil_mode=False)\n",
       "      (1): double_conv(\n",
       "        (conv): Sequential(\n",
       "          (0): Conv2d(128, 256, kernel_size=(3, 3), stride=(1, 1), padding=(1, 1))\n",
       "          (1): BatchNorm2d(256, eps=1e-05, momentum=0.1, affine=True, track_running_stats=True)\n",
       "          (2): ReLU(inplace=True)\n",
       "          (3): Conv2d(256, 256, kernel_size=(3, 3), stride=(1, 1), padding=(1, 1))\n",
       "          (4): BatchNorm2d(256, eps=1e-05, momentum=0.1, affine=True, track_running_stats=True)\n",
       "          (5): ReLU(inplace=True)\n",
       "        )\n",
       "      )\n",
       "    )\n",
       "  )\n",
       "  (down3): down(\n",
       "    (mpconv): Sequential(\n",
       "      (0): MaxPool2d(kernel_size=2, stride=2, padding=0, dilation=1, ceil_mode=False)\n",
       "      (1): double_conv(\n",
       "        (conv): Sequential(\n",
       "          (0): Conv2d(256, 512, kernel_size=(3, 3), stride=(1, 1), padding=(1, 1))\n",
       "          (1): BatchNorm2d(512, eps=1e-05, momentum=0.1, affine=True, track_running_stats=True)\n",
       "          (2): ReLU(inplace=True)\n",
       "          (3): Conv2d(512, 512, kernel_size=(3, 3), stride=(1, 1), padding=(1, 1))\n",
       "          (4): BatchNorm2d(512, eps=1e-05, momentum=0.1, affine=True, track_running_stats=True)\n",
       "          (5): ReLU(inplace=True)\n",
       "        )\n",
       "      )\n",
       "    )\n",
       "  )\n",
       "  (down4): down(\n",
       "    (mpconv): Sequential(\n",
       "      (0): MaxPool2d(kernel_size=2, stride=2, padding=0, dilation=1, ceil_mode=False)\n",
       "      (1): double_conv(\n",
       "        (conv): Sequential(\n",
       "          (0): Conv2d(512, 512, kernel_size=(3, 3), stride=(1, 1), padding=(1, 1))\n",
       "          (1): BatchNorm2d(512, eps=1e-05, momentum=0.1, affine=True, track_running_stats=True)\n",
       "          (2): ReLU(inplace=True)\n",
       "          (3): Conv2d(512, 512, kernel_size=(3, 3), stride=(1, 1), padding=(1, 1))\n",
       "          (4): BatchNorm2d(512, eps=1e-05, momentum=0.1, affine=True, track_running_stats=True)\n",
       "          (5): ReLU(inplace=True)\n",
       "        )\n",
       "      )\n",
       "    )\n",
       "  )\n",
       "  (up1): up(\n",
       "    (conv): double_conv(\n",
       "      (conv): Sequential(\n",
       "        (0): Conv2d(1024, 256, kernel_size=(3, 3), stride=(1, 1), padding=(1, 1))\n",
       "        (1): BatchNorm2d(256, eps=1e-05, momentum=0.1, affine=True, track_running_stats=True)\n",
       "        (2): ReLU(inplace=True)\n",
       "        (3): Conv2d(256, 256, kernel_size=(3, 3), stride=(1, 1), padding=(1, 1))\n",
       "        (4): BatchNorm2d(256, eps=1e-05, momentum=0.1, affine=True, track_running_stats=True)\n",
       "        (5): ReLU(inplace=True)\n",
       "      )\n",
       "    )\n",
       "  )\n",
       "  (up2): up(\n",
       "    (conv): double_conv(\n",
       "      (conv): Sequential(\n",
       "        (0): Conv2d(512, 128, kernel_size=(3, 3), stride=(1, 1), padding=(1, 1))\n",
       "        (1): BatchNorm2d(128, eps=1e-05, momentum=0.1, affine=True, track_running_stats=True)\n",
       "        (2): ReLU(inplace=True)\n",
       "        (3): Conv2d(128, 128, kernel_size=(3, 3), stride=(1, 1), padding=(1, 1))\n",
       "        (4): BatchNorm2d(128, eps=1e-05, momentum=0.1, affine=True, track_running_stats=True)\n",
       "        (5): ReLU(inplace=True)\n",
       "      )\n",
       "    )\n",
       "  )\n",
       "  (up3): up(\n",
       "    (conv): double_conv(\n",
       "      (conv): Sequential(\n",
       "        (0): Conv2d(256, 64, kernel_size=(3, 3), stride=(1, 1), padding=(1, 1))\n",
       "        (1): BatchNorm2d(64, eps=1e-05, momentum=0.1, affine=True, track_running_stats=True)\n",
       "        (2): ReLU(inplace=True)\n",
       "        (3): Conv2d(64, 64, kernel_size=(3, 3), stride=(1, 1), padding=(1, 1))\n",
       "        (4): BatchNorm2d(64, eps=1e-05, momentum=0.1, affine=True, track_running_stats=True)\n",
       "        (5): ReLU(inplace=True)\n",
       "      )\n",
       "    )\n",
       "  )\n",
       "  (up4): up(\n",
       "    (conv): double_conv(\n",
       "      (conv): Sequential(\n",
       "        (0): Conv2d(128, 64, kernel_size=(3, 3), stride=(1, 1), padding=(1, 1))\n",
       "        (1): BatchNorm2d(64, eps=1e-05, momentum=0.1, affine=True, track_running_stats=True)\n",
       "        (2): ReLU(inplace=True)\n",
       "        (3): Conv2d(64, 64, kernel_size=(3, 3), stride=(1, 1), padding=(1, 1))\n",
       "        (4): BatchNorm2d(64, eps=1e-05, momentum=0.1, affine=True, track_running_stats=True)\n",
       "        (5): ReLU(inplace=True)\n",
       "      )\n",
       "    )\n",
       "  )\n",
       "  (outc): outconv(\n",
       "    (conv): Conv2d(64, 1, kernel_size=(1, 1), stride=(1, 1))\n",
       "  )\n",
       ")"
      ]
     },
     "execution_count": 14,
     "metadata": {},
     "output_type": "execute_result"
    }
   ],
   "source": [
    "model.eval()\n"
   ]
  },
  {
   "cell_type": "code",
   "execution_count": 32,
   "metadata": {},
   "outputs": [],
   "source": [
    "for batch_idx, (data, target) in enumerate(test_loader):\n",
    "    data1 = data\n",
    "    target1 = target\n",
    "    if batch_idx == 45:\n",
    "        break\n",
    "    "
   ]
  },
  {
   "cell_type": "code",
   "execution_count": null,
   "metadata": {},
   "outputs": [],
   "source": [
    "with torch.no_grad():\n",
    "        output = model(data1)"
   ]
  },
  {
   "cell_type": "code",
   "execution_count": null,
   "metadata": {},
   "outputs": [],
   "source": [
    "a=np.array(output[0])\n",
    "b=np.array(target1[0])"
   ]
  },
  {
   "cell_type": "code",
   "execution_count": null,
   "metadata": {},
   "outputs": [],
   "source": [
    "np.save('trial_image1.npy',a)\n",
    "np.save('trial_mask1.npy',b)"
   ]
  },
  {
   "cell_type": "code",
   "execution_count": 1,
   "metadata": {},
   "outputs": [],
   "source": [
    "import numpy as np\n",
    "import matplotlib.pyplot as plt"
   ]
  },
  {
   "cell_type": "code",
   "execution_count": 12,
   "metadata": {},
   "outputs": [],
   "source": [
    "a =np.load('trial_image2.npy')\n",
    "b =np.load('trial_mask2.npy')"
   ]
  },
  {
   "cell_type": "code",
   "execution_count": 13,
   "metadata": {},
   "outputs": [
    {
     "data": {
      "text/plain": [
       "(512, 512)"
      ]
     },
     "execution_count": 13,
     "metadata": {},
     "output_type": "execute_result"
    }
   ],
   "source": [
    "b[0].shape"
   ]
  },
  {
   "cell_type": "code",
   "execution_count": 14,
   "metadata": {},
   "outputs": [
    {
     "data": {
      "text/plain": [
       "<matplotlib.image.AxesImage at 0x7f144c194550>"
      ]
     },
     "execution_count": 14,
     "metadata": {},
     "output_type": "execute_result"
    },
    {
     "data": {
      "image/png": "[encoded data removed]",
      "text/plain": [
       "<Figure size 432x288 with 1 Axes>"
      ]
     },
     "metadata": {
      "needs_background": "light"
     },
     "output_type": "display_data"
    }
   ],
   "source": [
    "plt.imshow(b[0],cmap ='gray')"
   ]
  },
  {
   "cell_type": "code",
   "execution_count": 15,
   "metadata": {},
   "outputs": [
    {
     "data": {
      "text/plain": [
       "(512, 512)"
      ]
     },
     "execution_count": 15,
     "metadata": {},
     "output_type": "execute_result"
    }
   ],
   "source": [
    "a[0].shape"
   ]
  },
  {
   "cell_type": "code",
   "execution_count": 19,
   "metadata": {},
   "outputs": [
    {
     "data": {
      "text/plain": [
       "<matplotlib.image.AxesImage at 0x7f144c05c400>"
      ]
     },
     "execution_count": 19,
     "metadata": {},
     "output_type": "execute_result"
    },
    {
     "data": {
      "image/png": "[encoded data removed]",
      "text/plain": [
       "<Figure size 432x288 with 1 Axes>"
      ]
     },
     "metadata": {
      "needs_background": "light"
     },
     "output_type": "display_data"
    }
   ],
   "source": [
    "plt.imshow((a[0]>0.5)*1,cmap ='gray')"
   ]
  },
  {
   "cell_type": "code",
   "execution_count": null,
   "metadata": {},
   "outputs": [],
   "source": []
  }
 ],
 "metadata": {
  "kernelspec": {
   "display_name": "myenv_adi_2",
   "language": "python",
   "name": "myenv_adi_2"
  },
  "language_info": {
   "codemirror_mode": {
    "name": "ipython",
    "version": 3
   },
   "file_extension": ".py",
   "mimetype": "text/x-python",
   "name": "python",
   "nbconvert_exporter": "python",
   "pygments_lexer": "ipython3",
   "version": "3.8.1"
  }
 },
 "nbformat": 4,
 "nbformat_minor": 4
}
