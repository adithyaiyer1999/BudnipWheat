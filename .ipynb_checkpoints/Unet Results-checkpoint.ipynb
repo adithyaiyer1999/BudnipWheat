{
 "cells": [
  {
   "cell_type": "code",
   "execution_count": 1,
   "metadata": {},
   "outputs": [],
   "source": [
    "import numpy as np\n",
    "import matplotlib.pyplot as plt\n",
    "from sklearn.metrics import jaccard_score\n",
    "from sklearn.metrics import classification_report\n",
    "from sklearn.metrics import precision_recall_fscore_support\n",
    "from sklearn.metrics import jaccard_score"
   ]
  },
  {
   "cell_type": "code",
   "execution_count": 2,
   "metadata": {},
   "outputs": [],
   "source": [
    "import os\n"
   ]
  },
  {
   "cell_type": "code",
   "execution_count": 3,
   "metadata": {},
   "outputs": [],
   "source": [
    "path_image = '/application/pi/Desktop/all imp data/Unet testing/images/'\n",
    "path_mask= '/application/pi/Desktop/all imp data/Unet testing/masks/'\n",
    "image_list = os.listdir(path_image)\n",
    "mask_list = os.listdir(path_mask)"
   ]
  },
  {
   "cell_type": "code",
   "execution_count": 4,
   "metadata": {},
   "outputs": [
    {
     "data": {
      "text/plain": [
       "96"
      ]
     },
     "execution_count": 4,
     "metadata": {},
     "output_type": "execute_result"
    }
   ],
   "source": [
    "len(mask_list)"
   ]
  },
  {
   "cell_type": "code",
   "execution_count": 5,
   "metadata": {},
   "outputs": [
    {
     "data": {
      "text/plain": [
       "['trial_0_0.npy',\n",
       " 'trial_1_0.npy',\n",
       " 'trial_2_0.npy',\n",
       " 'trial_3_0.npy',\n",
       " 'trial_0_1.npy',\n",
       " 'trial_1_1.npy',\n",
       " 'trial_2_1.npy',\n",
       " 'trial_3_1.npy',\n",
       " 'trial_0_2.npy',\n",
       " 'trial_1_2.npy',\n",
       " 'trial_2_2.npy',\n",
       " 'trial_3_2.npy',\n",
       " 'trial_0_3.npy',\n",
       " 'trial_1_3.npy',\n",
       " 'trial_2_3.npy',\n",
       " 'trial_3_3.npy',\n",
       " 'trial_0_4.npy',\n",
       " 'trial_1_4.npy',\n",
       " 'trial_2_4.npy',\n",
       " 'trial_3_4.npy',\n",
       " 'trial_0_5.npy',\n",
       " 'trial_1_5.npy',\n",
       " 'trial_2_5.npy',\n",
       " 'trial_3_5.npy',\n",
       " 'trial_0_6.npy',\n",
       " 'trial_1_6.npy',\n",
       " 'trial_2_6.npy',\n",
       " 'trial_3_6.npy',\n",
       " 'trial_0_7.npy',\n",
       " 'trial_1_7.npy',\n",
       " 'trial_2_7.npy',\n",
       " 'trial_3_7.npy',\n",
       " 'trial_0_8.npy',\n",
       " 'trial_1_8.npy',\n",
       " 'trial_2_8.npy',\n",
       " 'trial_3_8.npy',\n",
       " 'trial_0_9.npy',\n",
       " 'trial_1_9.npy',\n",
       " 'trial_2_9.npy',\n",
       " 'trial_3_9.npy',\n",
       " 'trial_0_10.npy',\n",
       " 'trial_1_10.npy',\n",
       " 'trial_2_10.npy',\n",
       " 'trial_3_10.npy',\n",
       " 'trial_0_11.npy',\n",
       " 'trial_1_11.npy',\n",
       " 'trial_2_11.npy',\n",
       " 'trial_3_11.npy',\n",
       " 'trial_0_12.npy',\n",
       " 'trial_1_12.npy',\n",
       " 'trial_2_12.npy',\n",
       " 'trial_3_12.npy',\n",
       " 'trial_0_13.npy',\n",
       " 'trial_1_13.npy',\n",
       " 'trial_2_13.npy',\n",
       " 'trial_3_13.npy',\n",
       " 'trial_0_14.npy',\n",
       " 'trial_1_14.npy',\n",
       " 'trial_2_14.npy',\n",
       " 'trial_3_14.npy',\n",
       " 'trial_0_15.npy',\n",
       " 'trial_1_15.npy',\n",
       " 'trial_2_15.npy',\n",
       " 'trial_3_15.npy',\n",
       " 'trial_0_16.npy',\n",
       " 'trial_1_16.npy',\n",
       " 'trial_2_16.npy',\n",
       " 'trial_3_16.npy',\n",
       " 'trial_0_17.npy',\n",
       " 'trial_1_17.npy',\n",
       " 'trial_2_17.npy',\n",
       " 'trial_3_17.npy',\n",
       " 'trial_0_18.npy',\n",
       " 'trial_1_18.npy',\n",
       " 'trial_2_18.npy',\n",
       " 'trial_3_18.npy',\n",
       " 'trial_0_19.npy',\n",
       " 'trial_1_19.npy',\n",
       " 'trial_2_19.npy',\n",
       " 'trial_3_19.npy',\n",
       " 'trial_0_20.npy',\n",
       " 'trial_1_20.npy',\n",
       " 'trial_2_20.npy',\n",
       " 'trial_3_20.npy',\n",
       " 'trial_0_21.npy',\n",
       " 'trial_1_21.npy',\n",
       " 'trial_2_21.npy',\n",
       " 'trial_3_21.npy',\n",
       " 'trial_0_22.npy',\n",
       " 'trial_1_22.npy',\n",
       " 'trial_2_22.npy',\n",
       " 'trial_3_22.npy',\n",
       " 'trial_0_23.npy',\n",
       " 'trial_1_23.npy',\n",
       " 'trial_2_23.npy',\n",
       " 'trial_3_23.npy']"
      ]
     },
     "execution_count": 5,
     "metadata": {},
     "output_type": "execute_result"
    }
   ],
   "source": [
    "mask_list"
   ]
  },
  {
   "cell_type": "code",
   "execution_count": null,
   "metadata": {},
   "outputs": [],
   "source": []
  },
  {
   "cell_type": "code",
   "execution_count": 6,
   "metadata": {},
   "outputs": [
    {
     "name": "stdout",
     "output_type": "stream",
     "text": [
      "Accuracy = 91.24717712402344 %\n",
      "**********************\n",
      "Accuracy = 88.33351135253906 %\n",
      "**********************\n",
      "Accuracy = 95.15609741210938 %\n",
      "**********************\n",
      "Accuracy = 92.36831665039062 %\n",
      "**********************\n",
      "Accuracy = 94.09446716308594 %\n",
      "**********************\n",
      "Accuracy = 96.270751953125 %\n",
      "**********************\n",
      "Accuracy = 96.16508483886719 %\n",
      "**********************\n",
      "Accuracy = 91.6259765625 %\n",
      "**********************\n",
      "Accuracy = 97.92137145996094 %\n",
      "**********************\n",
      "Accuracy = 93.42231750488281 %\n",
      "**********************\n",
      "Accuracy = 93.5882568359375 %\n",
      "**********************\n",
      "Accuracy = 94.18067932128906 %\n",
      "**********************\n",
      "Accuracy = 95.23735046386719 %\n",
      "**********************\n",
      "Accuracy = 96.2799072265625 %\n",
      "**********************\n",
      "Accuracy = 96.27876281738281 %\n",
      "**********************\n",
      "Accuracy = 96.22688293457031 %\n",
      "**********************\n",
      "Accuracy = 87.22724914550781 %\n",
      "**********************\n",
      "Accuracy = 91.28456115722656 %\n",
      "**********************\n",
      "Accuracy = 94.47555541992188 %\n",
      "**********************\n",
      "Accuracy = 86.20262145996094 %\n",
      "**********************\n",
      "Accuracy = 89.48554992675781 %\n",
      "**********************\n",
      "Accuracy = 89.47486877441406 %\n",
      "**********************\n",
      "Accuracy = 98.00300598144531 %\n",
      "**********************\n",
      "Accuracy = 95.10612487792969 %\n",
      "**********************\n",
      "Accuracy = 94.14901733398438 %\n",
      "**********************\n",
      "Accuracy = 96.27304077148438 %\n",
      "**********************\n",
      "Accuracy = 78.97415161132812 %\n",
      "**********************\n",
      "Accuracy = 86.12251281738281 %\n",
      "**********************\n",
      "Accuracy = 96.14295959472656 %\n",
      "**********************\n",
      "Accuracy = 92.84591674804688 %\n",
      "**********************\n",
      "Accuracy = 97.674560546875 %\n",
      "**********************\n",
      "Accuracy = 97.49870300292969 %\n",
      "**********************\n",
      "Accuracy = 81.63681030273438 %\n",
      "**********************\n",
      "Accuracy = 95.26100158691406 %\n",
      "**********************\n",
      "Accuracy = 93.54591369628906 %\n",
      "**********************\n",
      "Accuracy = 93.44940185546875 %\n",
      "**********************\n",
      "Accuracy = 93.5760498046875 %\n",
      "**********************\n",
      "Accuracy = 94.34165954589844 %\n",
      "**********************\n",
      "Accuracy = 94.6319580078125 %\n",
      "**********************\n",
      "Accuracy = 91.20445251464844 %\n",
      "**********************\n",
      "Accuracy = 87.80136108398438 %\n",
      "**********************\n",
      "Accuracy = 83.25614929199219 %\n",
      "**********************\n",
      "Accuracy = 94.38056945800781 %\n",
      "**********************\n",
      "Accuracy = 91.76483154296875 %\n",
      "**********************\n",
      "Accuracy = 89.57443237304688 %\n",
      "**********************\n",
      "Accuracy = 94.60372924804688 %\n",
      "**********************\n",
      "Accuracy = 96.21238708496094 %\n",
      "**********************\n",
      "Accuracy = 93.48335266113281 %\n",
      "**********************\n",
      "Accuracy = 92.91419982910156 %\n",
      "**********************\n",
      "Accuracy = 78.83148193359375 %\n",
      "**********************\n",
      "Accuracy = 90.89584350585938 %\n",
      "**********************\n",
      "Accuracy = 93.59817504882812 %\n",
      "**********************\n",
      "Accuracy = 89.27688598632812 %\n",
      "**********************\n",
      "Accuracy = 88.90571594238281 %\n",
      "**********************\n",
      "Accuracy = 97.91717529296875 %\n",
      "**********************\n",
      "Accuracy = 97.50633239746094 %\n",
      "**********************\n",
      "Accuracy = 96.09947204589844 %\n",
      "**********************\n",
      "Accuracy = 94.3206787109375 %\n",
      "**********************\n",
      "Accuracy = 93.94302368164062 %\n",
      "**********************\n",
      "Accuracy = 81.37550354003906 %\n",
      "**********************\n",
      "Accuracy = 93.91670227050781 %\n",
      "**********************\n",
      "Accuracy = 88.83247375488281 %\n",
      "**********************\n",
      "Accuracy = 94.25010681152344 %\n",
      "**********************\n",
      "Accuracy = 93.42002868652344 %\n",
      "**********************\n",
      "Accuracy = 98.01712036132812 %\n",
      "**********************\n",
      "Accuracy = 95.21980285644531 %\n",
      "**********************\n",
      "Accuracy = 94.73495483398438 %\n",
      "**********************\n",
      "Accuracy = 89.0777587890625 %\n",
      "**********************\n",
      "Accuracy = 92.48695373535156 %\n",
      "**********************\n",
      "Accuracy = 97.48687744140625 %\n",
      "**********************\n",
      "Accuracy = 88.91716003417969 %\n",
      "**********************\n",
      "Accuracy = 94.64836120605469 %\n",
      "**********************\n",
      "Accuracy = 89.22157287597656 %\n",
      "**********************\n",
      "Accuracy = 89.39552307128906 %\n",
      "**********************\n",
      "Accuracy = 83.43467712402344 %\n",
      "**********************\n",
      "Accuracy = 89.35508728027344 %\n",
      "**********************\n",
      "Accuracy = 97.50556945800781 %\n",
      "**********************\n",
      "Accuracy = 98.05870056152344 %\n",
      "**********************\n",
      "Accuracy = 95.65811157226562 %\n",
      "**********************\n",
      "Accuracy = 89.14566040039062 %\n",
      "**********************\n",
      "Accuracy = 93.20831298828125 %\n",
      "**********************\n",
      "Accuracy = 96.15936279296875 %\n",
      "**********************\n",
      "Accuracy = 91.76673889160156 %\n",
      "**********************\n",
      "Accuracy = 93.62525939941406 %\n",
      "**********************\n",
      "Accuracy = 86.83319091796875 %\n",
      "**********************\n",
      "Accuracy = 97.92213439941406 %\n",
      "**********************\n",
      "Accuracy = 91.84303283691406 %\n",
      "**********************\n",
      "Accuracy = 87.27188110351562 %\n",
      "**********************\n",
      "Accuracy = 91.05339050292969 %\n",
      "**********************\n",
      "Accuracy = 97.65968322753906 %\n",
      "**********************\n",
      "Accuracy = 94.13299560546875 %\n",
      "**********************\n",
      "Accuracy = 92.29354858398438 %\n",
      "**********************\n",
      "Accuracy = 94.21424865722656 %\n",
      "**********************\n",
      "Accuracy = 88.62190246582031 %\n",
      "**********************\n",
      "Accuracy = 86.20529174804688 %\n",
      "**********************\n",
      "Accuracy = 97.91183471679688 %\n",
      "**********************\n"
     ]
    }
   ],
   "source": [
    "Acc = []\n",
    "Pre = []\n",
    "Rec = []\n",
    "F1 = []\n",
    "Jac = []\n",
    "for i in range(0,96):\n",
    "    a = np.load(path_image+image_list[i])\n",
    "    b = np.load(path_mask+image_list[i])\n",
    "    actual =(b[0])\n",
    "#     plt.figure()\n",
    "#     plt.imshow(actual)\n",
    "    predict =(a[0]>0.5)*1\n",
    "#     plt.figure()\n",
    "#     plt.imshow(predict,cmap=\"gray\")\n",
    "    \n",
    "    \n",
    "    accuracy = np.sum((actual==predict)*1)/512/512*100\n",
    "    print('Accuracy =',accuracy,'%')\n",
    "    \n",
    "    Jac.append(jaccard_score(actual.flatten(), predict.flatten(),average = 'binary'))\n",
    "    \n",
    "    precision, recall, F1score, support = precision_recall_fscore_support(actual.flatten(), predict.flatten(),average = 'binary')\n",
    "    \n",
    "    Acc.append(accuracy)\n",
    "    Pre.append(precision)\n",
    "    Rec.append(recall)\n",
    "    F1.append(F1score)\n",
    "    \n",
    "    print('**********************')"
   ]
  },
  {
   "cell_type": "code",
   "execution_count": 7,
   "metadata": {},
   "outputs": [
    {
     "data": {
      "text/plain": [
       "92.4703319867452"
      ]
     },
     "execution_count": 7,
     "metadata": {},
     "output_type": "execute_result"
    }
   ],
   "source": [
    "np.mean(Acc)"
   ]
  },
  {
   "cell_type": "code",
   "execution_count": 8,
   "metadata": {},
   "outputs": [
    {
     "data": {
      "text/plain": [
       "0.676950032375547"
      ]
     },
     "execution_count": 8,
     "metadata": {},
     "output_type": "execute_result"
    }
   ],
   "source": [
    "np.mean(Pre)"
   ]
  },
  {
   "cell_type": "code",
   "execution_count": 9,
   "metadata": {},
   "outputs": [
    {
     "data": {
      "text/plain": [
       "0.7041060142657315"
      ]
     },
     "execution_count": 9,
     "metadata": {},
     "output_type": "execute_result"
    }
   ],
   "source": [
    "np.mean(F1)"
   ]
  },
  {
   "cell_type": "code",
   "execution_count": 10,
   "metadata": {},
   "outputs": [
    {
     "data": {
      "text/plain": [
       "0.26662916608072"
      ]
     },
     "execution_count": 10,
     "metadata": {},
     "output_type": "execute_result"
    }
   ],
   "source": [
    "np.mean(recall)"
   ]
  },
  {
   "cell_type": "code",
   "execution_count": 11,
   "metadata": {},
   "outputs": [
    {
     "data": {
      "text/plain": [
       "0.5690171392286908"
      ]
     },
     "execution_count": 11,
     "metadata": {},
     "output_type": "execute_result"
    }
   ],
   "source": [
    "np.mean(Jac)"
   ]
  },
  {
   "cell_type": "code",
   "execution_count": 12,
   "metadata": {},
   "outputs": [
    {
     "data": {
      "text/plain": [
       "93.5821533203125"
      ]
     },
     "execution_count": 12,
     "metadata": {},
     "output_type": "execute_result"
    }
   ],
   "source": [
    "np.median(Acc)"
   ]
  },
  {
   "cell_type": "code",
   "execution_count": 13,
   "metadata": {},
   "outputs": [
    {
     "data": {
      "text/plain": [
       "0.5939822327438025"
      ]
     },
     "execution_count": 13,
     "metadata": {},
     "output_type": "execute_result"
    }
   ],
   "source": [
    "np.median(Jac)"
   ]
  },
  {
   "cell_type": "code",
   "execution_count": null,
   "metadata": {},
   "outputs": [],
   "source": []
  }
 ],
 "metadata": {
  "kernelspec": {
   "display_name": "Blanca",
   "language": "python",
   "name": "blanca"
  },
  "language_info": {
   "codemirror_mode": {
    "name": "ipython",
    "version": 3
   },
   "file_extension": ".py",
   "mimetype": "text/x-python",
   "name": "python",
   "nbconvert_exporter": "python",
   "pygments_lexer": "ipython3",
   "version": "3.8.1"
  }
 },
 "nbformat": 4,
 "nbformat_minor": 4
}
