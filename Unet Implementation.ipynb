{
 "cells": [
  {
   "cell_type": "code",
   "execution_count": 1,
   "metadata": {},
   "outputs": [],
   "source": [
    "import torch\n",
    "import torchvision\n",
    "import torchvision.transforms as transforms\n",
    "import torch.nn as nn\n",
    "import torch.optim as optim\n",
    "from torch.autograd import Variable\n",
    "import torch.nn.functional as F\n",
    "import torch.utils.data as td\n"
   ]
  },
  {
   "cell_type": "code",
   "execution_count": 3,
   "metadata": {},
   "outputs": [
    {
     "name": "stdout",
     "output_type": "stream",
     "text": [
      "--2020-05-17 16:13:20--  https://aka.ms/unet-pt\n",
      "Resolving aka.ms (aka.ms)... 184.25.42.144\n",
      "Connecting to aka.ms (aka.ms)|184.25.42.144|:443... connected.\n",
      "HTTP request sent, awaiting response... 301 Moved Permanently\n",
      "Location: https://onedrive.live.com/download?cid=783D202C58C75CC2&resid=783D202C58C75CC2%21106&authkey=AC-jDrEgK0Phd6E [following]\n",
      "--2020-05-17 16:13:21--  https://onedrive.live.com/download?cid=783D202C58C75CC2&resid=783D202C58C75CC2%21106&authkey=AC-jDrEgK0Phd6E\n",
      "Resolving onedrive.live.com (onedrive.live.com)... 13.107.42.13\n",
      "Connecting to onedrive.live.com (onedrive.live.com)|13.107.42.13|:443... connected.\n",
      "HTTP request sent, awaiting response... 302 Found\n",
      "Location: https://asm0nq.bn.files.1drv.com/y4mmxeh4w9D9xwQ2xWmw7Ky-SLnj4mrVdcW4X8yFSXhyui2kS6vZjvWRugGXGytGOPUMUITg36u4GrLlqI-xc0x7HWsgY2T8exjSLk-adG7ntl_8BuWxztAJl2Kd2mFoxrF5gGATjHUceL4sBbBbWMChvPbi6U3b8OqDdTcFbkbjENiPlTshasP8IIyyQz1T7s9yCPOZE6T0D8AocZoQunl-A/unet.pt?download&psid=1 [following]\n",
      "--2020-05-17 16:13:22--  https://asm0nq.bn.files.1drv.com/y4mmxeh4w9D9xwQ2xWmw7Ky-SLnj4mrVdcW4X8yFSXhyui2kS6vZjvWRugGXGytGOPUMUITg36u4GrLlqI-xc0x7HWsgY2T8exjSLk-adG7ntl_8BuWxztAJl2Kd2mFoxrF5gGATjHUceL4sBbBbWMChvPbi6U3b8OqDdTcFbkbjENiPlTshasP8IIyyQz1T7s9yCPOZE6T0D8AocZoQunl-A/unet.pt?download&psid=1\n",
      "Resolving asm0nq.bn.files.1drv.com (asm0nq.bn.files.1drv.com)... 13.107.42.12\n",
      "Connecting to asm0nq.bn.files.1drv.com (asm0nq.bn.files.1drv.com)|13.107.42.12|:443... connected.\n",
      "HTTP request sent, awaiting response... 200 OK\n",
      "Length: 53632920 (51M) [application/octet-stream]\n",
      "Saving to: '/application/pi/unet.pt'\n",
      "\n",
      "100%[======================================>] 53,632,920  23.9MB/s   in 2.1s   \n",
      "\n",
      "2020-05-17 16:13:24 (23.9 MB/s) - '/application/pi/unet.pt' saved [53632920/53632920]\n",
      "\n"
     ]
    }
   ],
   "source": [
    "!wget \"https://aka.ms/unet-pt\" -O ~/unet.pt"
   ]
  },
  {
   "cell_type": "code",
   "execution_count": null,
   "metadata": {},
   "outputs": [],
   "source": []
  }
 ],
 "metadata": {
  "kernelspec": {
   "display_name": "ml_adi",
   "language": "python",
   "name": "ml_adi"
  },
  "language_info": {
   "codemirror_mode": {
    "name": "ipython",
    "version": 3
   },
   "file_extension": ".py",
   "mimetype": "text/x-python",
   "name": "python",
   "nbconvert_exporter": "python",
   "pygments_lexer": "ipython3",
   "version": "3.5.6"
  }
 },
 "nbformat": 4,
 "nbformat_minor": 4
}
