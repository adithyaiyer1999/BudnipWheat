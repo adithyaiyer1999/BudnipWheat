{
 "cells": [
  {
   "cell_type": "code",
   "execution_count": null,
   "metadata": {},
   "outputs": [],
   "source": []
  },
  {
   "cell_type": "code",
   "execution_count": 1,
   "metadata": {},
   "outputs": [],
   "source": [
    "import torch\n",
    "import torchvision\n",
    "import torchvision.transforms as transforms\n",
    "import torch.nn as nn\n",
    "import torch.optim as optim\n",
    "from torch.autograd import Variable\n",
    "import torch.nn.functional as F\n",
    "import torch.utils.data as td\n",
    "import numpy as np\n",
    "import os\n",
    "import random\n",
    "from PIL import Image\n",
    "from scripts.unet_model import *\n",
    "from scripts.indices import *"
   ]
  },
  {
   "cell_type": "code",
   "execution_count": 2,
   "metadata": {},
   "outputs": [],
   "source": [
    "image_dir = '/application/pi/Desktop/all imp data/Unet_training/images/'\n",
    "mask_dir = '/application/pi/Desktop/all imp data/Unet_training/masks/'"
   ]
  },
  {
   "cell_type": "code",
   "execution_count": 3,
   "metadata": {},
   "outputs": [],
   "source": [
    "class PlaneDataSet(td.Dataset):\n",
    "    \n",
    "    def __init__(self, image_path, mask_path):\n",
    "        import os\n",
    "        \n",
    "        self.image_path = image_path\n",
    "        \n",
    "        self.mask_path = mask_path\n",
    "        c = os.listdir(mask_path)\n",
    "        c.remove('.ipynb_checkpoints')\n",
    "        self.filenames = c\n",
    "        \n",
    "        self.filenames \n",
    "    def __getitem__(self, index):\n",
    "        \n",
    "        # Get a random intenger between 1 and 2\n",
    "        rand = random.randint(0, 2)     \n",
    "        \n",
    "        #Load the image\n",
    "        img_path = os.path.join(self.image_path, self.filenames[index])\n",
    "        image =  np.load(img_path)\n",
    "        \n",
    "        # Make Indices\n",
    "        image_np = allIndices(image)\n",
    "        \n",
    "        # Normalize\n",
    "        image_np = normalize(image_np)\n",
    "        #print(image_np.shape)\n",
    "        # Randomly flip the image half the time\n",
    "#         if rand > 1:\n",
    "#             image_pil = Image.fromarray(image_np).transpose(Image.FLIP_LEFT_RIGHT).convert(\"L\")          \n",
    "#             image_np = np.array(image_pil)\n",
    "        \n",
    "        # Add a dimension and convert to a tensor\n",
    "        #image_np = np.expand_dims(image_np, axis=0)\n",
    "        image_tensor = torch.Tensor(image_np)\n",
    "        \n",
    "        # Now do all the same stuff to the mask image\n",
    "        mask_path = os.path.join(self.mask_path, self.filenames[index])\n",
    "        mask =  np.load(mask_path)\n",
    "        #mask_np = mask\n",
    "        mask_np = np.expand_dims(mask, axis=0)\n",
    "        mask_tensor = torch.Tensor(mask_np)\n",
    "        \n",
    "        return(image_tensor, mask_tensor)\n",
    "    \n",
    "    def __len__(self):\n",
    "        return len(self.filenames)"
   ]
  },
  {
   "cell_type": "code",
   "execution_count": 4,
   "metadata": {},
   "outputs": [],
   "source": [
    "def load_data(image_path, mask_path):\n",
    "\n",
    "    # Load all of the images, transforming them\n",
    "    dataset = PlaneDataSet(image_path , mask_path)\n",
    "    \n",
    "    train_size = int(0.8 * len(dataset))\n",
    "    test_size = len(dataset) - train_size\n",
    "    train_dataset, test_dataset = torch.utils.data.random_split(dataset, [train_size, test_size])\n",
    "    # define a loader for the image data\n",
    "    image_loader = torch.utils.data.DataLoader(\n",
    "        dataset,\n",
    "        batch_size=4,\n",
    "        num_workers=0,\n",
    "        shuffle=True,\n",
    "    )\n",
    "    train_loader = torch.utils.data.DataLoader(\n",
    "        train_dataset,\n",
    "        batch_size=4,\n",
    "        num_workers=0,\n",
    "        shuffle=True,\n",
    "    )\n",
    "    test_loader = torch.utils.data.DataLoader(\n",
    "        test_dataset,\n",
    "        batch_size=4,\n",
    "        num_workers=0,\n",
    "        shuffle=True,\n",
    "    )\n",
    "    return image_loader, train_loader, test_loader\n",
    "\n",
    "image_loader, train_loader, test_loader = load_data(image_dir, mask_dir)"
   ]
  },
  {
   "cell_type": "code",
   "execution_count": 5,
   "metadata": {},
   "outputs": [
    {
     "data": {
      "text/plain": [
       "tuple"
      ]
     },
     "execution_count": 5,
     "metadata": {},
     "output_type": "execute_result"
    }
   ],
   "source": [
    "type(image_loader.dataset.__getitem__(12))\n"
   ]
  },
  {
   "cell_type": "code",
   "execution_count": 6,
   "metadata": {},
   "outputs": [
    {
     "name": "stdout",
     "output_type": "stream",
     "text": [
      "<class 'torch.utils.data.dataloader.DataLoader'>\n"
     ]
    },
    {
     "data": {
      "text/plain": [
       "384"
      ]
     },
     "execution_count": 6,
     "metadata": {},
     "output_type": "execute_result"
    }
   ],
   "source": [
    "print(type(train_loader))\n",
    "len(train_loader.dataset)\n"
   ]
  },
  {
   "cell_type": "code",
   "execution_count": 7,
   "metadata": {},
   "outputs": [
    {
     "data": {
      "text/plain": [
       "96"
      ]
     },
     "execution_count": 7,
     "metadata": {},
     "output_type": "execute_result"
    }
   ],
   "source": [
    "type(test_loader)\n",
    "len(test_loader.dataset)\n"
   ]
  },
  {
   "cell_type": "code",
   "execution_count": 11,
   "metadata": {},
   "outputs": [
    {
     "name": "stdout",
     "output_type": "stream",
     "text": [
      "--2020-05-19 17:04:31--  https://aka.ms/unet-pt\n",
      "Resolving aka.ms (aka.ms)... 104.102.53.13\n",
      "Connecting to aka.ms (aka.ms)|104.102.53.13|:443... connected.\n",
      "HTTP request sent, awaiting response... 301 Moved Permanently\n",
      "Location: https://onedrive.live.com/download?cid=783D202C58C75CC2&resid=783D202C58C75CC2%21106&authkey=AC-jDrEgK0Phd6E [following]\n",
      "--2020-05-19 17:04:31--  https://onedrive.live.com/download?cid=783D202C58C75CC2&resid=783D202C58C75CC2%21106&authkey=AC-jDrEgK0Phd6E\n",
      "Resolving onedrive.live.com (onedrive.live.com)... 13.107.42.13\n",
      "Connecting to onedrive.live.com (onedrive.live.com)|13.107.42.13|:443... connected.\n",
      "HTTP request sent, awaiting response... 302 Found\n",
      "Location: https://asm0nq.bn.files.1drv.com/y4mCNiGIl_J1vKQeYxOKkcyGFnAKwaCoC3V6YIOV8wMoVpd9noT6bRzvnD39AtwBJ2Owr-3auTZcUMgIIZhgwza6OIdKfpR91AO88Tv1iyEdD-ael06P9No574XiCVTm4KwrgqHIbQp2i3-vJRPvdG8-AGlyCQZo6U9ANVY-bl6fT_D8y5h5j9ioOSZlGi1jk1JjOrdOC2WcFGnFLQ-ZuK2Eg/unet.pt?download&psid=1 [following]\n",
      "--2020-05-19 17:04:32--  https://asm0nq.bn.files.1drv.com/y4mCNiGIl_J1vKQeYxOKkcyGFnAKwaCoC3V6YIOV8wMoVpd9noT6bRzvnD39AtwBJ2Owr-3auTZcUMgIIZhgwza6OIdKfpR91AO88Tv1iyEdD-ael06P9No574XiCVTm4KwrgqHIbQp2i3-vJRPvdG8-AGlyCQZo6U9ANVY-bl6fT_D8y5h5j9ioOSZlGi1jk1JjOrdOC2WcFGnFLQ-ZuK2Eg/unet.pt?download&psid=1\n",
      "Resolving asm0nq.bn.files.1drv.com (asm0nq.bn.files.1drv.com)... 13.107.42.12\n",
      "Connecting to asm0nq.bn.files.1drv.com (asm0nq.bn.files.1drv.com)|13.107.42.12|:443... connected.\n",
      "HTTP request sent, awaiting response... 200 OK\n",
      "Length: 53632920 (51M) [application/octet-stream]\n",
      "Saving to: '/application/pi/unet.pt'\n",
      "\n",
      "100%[======================================>] 53,632,920   386KB/s   in 2m 11s \n",
      "\n",
      "2020-05-19 17:06:44 (399 KB/s) - '/application/pi/unet.pt' saved [53632920/53632920]\n",
      "\n"
     ]
    }
   ],
   "source": [
    "!wget \"https://aka.ms/unet-pt\" -O ~/unet.pt"
   ]
  },
  {
   "cell_type": "code",
   "execution_count": 16,
   "metadata": {},
   "outputs": [],
   "source": [
    "def train(model, device, data_loader, optimizer, epoch):\n",
    "    \n",
    "    model.to(device)\n",
    "    model.train()\n",
    "    \n",
    "    train_loss = 0\n",
    "    print(\"Epoch:\", epoch, \"...\")\n",
    "    # Process the images in batches\n",
    "    for batch_idx, (data, target) in enumerate(data_loader):\n",
    "        \n",
    "        \n",
    "        data, target = data.to(device), target.to(device)\n",
    "        \n",
    "        # Reset the optimizer\n",
    "        optimizer.zero_grad()\n",
    "        \n",
    "        # Push the data forward through the model layers\n",
    "        output = model(data)\n",
    "        \n",
    "        # Get the loss\n",
    "        loss = loss_criteria(output, target)\n",
    "        \n",
    "        # Keep a running total\n",
    "        train_loss += loss.item()\n",
    "        print('loss =', loss.item())\n",
    "        # Backpropagate\n",
    "        loss.backward()\n",
    "        optimizer.step()\n",
    "        print('loss =', loss.item(),' number',batch_idx)\n",
    "        \n",
    "    # return average loss for the epoch\n",
    "    avg_training_loss = train_loss / (batch_idx+1)\n",
    "    print(\"\\tTraining set: Average loss: {:.6f}\".format(avg_training_loss))\n",
    "    return avg_training_loss\n"
   ]
  },
  {
   "cell_type": "code",
   "execution_count": 17,
   "metadata": {},
   "outputs": [
    {
     "name": "stdout",
     "output_type": "stream",
     "text": [
      "Training on cpu\n",
      "Epoch: 1 ...\n",
      "loss = 0.6727059483528137\n",
      "loss = 0.6727059483528137  number 0\n",
      "loss = 0.5968011021614075\n",
      "loss = 0.5968011021614075  number 1\n",
      "loss = 0.6145889163017273\n",
      "loss = 0.6145889163017273  number 2\n",
      "loss = 0.5046488642692566\n",
      "loss = 0.5046488642692566  number 3\n",
      "loss = 0.4308028221130371\n",
      "loss = 0.4308028221130371  number 4\n",
      "loss = 0.4716370403766632\n",
      "loss = 0.4716370403766632  number 5\n",
      "loss = 0.40973228216171265\n",
      "loss = 0.40973228216171265  number 6\n",
      "loss = 0.3928646445274353\n",
      "loss = 0.3928646445274353  number 7\n",
      "loss = 0.3914265036582947\n",
      "loss = 0.3914265036582947  number 8\n",
      "loss = 0.4758860468864441\n",
      "loss = 0.4758860468864441  number 9\n",
      "loss = 0.3263248801231384\n",
      "loss = 0.3263248801231384  number 10\n",
      "loss = 0.3265174627304077\n",
      "loss = 0.3265174627304077  number 11\n",
      "loss = 0.39941489696502686\n",
      "loss = 0.39941489696502686  number 12\n",
      "loss = 0.36327168345451355\n",
      "loss = 0.36327168345451355  number 13\n",
      "loss = 0.34793248772621155\n",
      "loss = 0.34793248772621155  number 14\n",
      "loss = 0.3466339707374573\n",
      "loss = 0.3466339707374573  number 15\n",
      "loss = 0.33508241176605225\n",
      "loss = 0.33508241176605225  number 16\n",
      "loss = 0.3183043897151947\n",
      "loss = 0.3183043897151947  number 17\n",
      "loss = 0.37028902769088745\n",
      "loss = 0.37028902769088745  number 18\n",
      "loss = 0.369440495967865\n",
      "loss = 0.369440495967865  number 19\n",
      "loss = 0.35177987813949585\n",
      "loss = 0.35177987813949585  number 20\n",
      "loss = 0.3376345634460449\n",
      "loss = 0.3376345634460449  number 21\n",
      "loss = 0.29855066537857056\n",
      "loss = 0.29855066537857056  number 22\n",
      "loss = 0.3194220960140228\n",
      "loss = 0.3194220960140228  number 23\n",
      "loss = 0.36355024576187134\n",
      "loss = 0.36355024576187134  number 24\n",
      "loss = 0.37319043278694153\n",
      "loss = 0.37319043278694153  number 25\n",
      "loss = 0.30639055371284485\n",
      "loss = 0.30639055371284485  number 26\n",
      "loss = 0.43781256675720215\n",
      "loss = 0.43781256675720215  number 27\n",
      "loss = 0.3328893780708313\n",
      "loss = 0.3328893780708313  number 28\n",
      "loss = 0.2959062457084656\n",
      "loss = 0.2959062457084656  number 29\n",
      "loss = 0.46864575147628784\n",
      "loss = 0.46864575147628784  number 30\n",
      "loss = 0.44183623790740967\n",
      "loss = 0.44183623790740967  number 31\n",
      "loss = 0.37060368061065674\n",
      "loss = 0.37060368061065674  number 32\n",
      "loss = 0.30289000272750854\n",
      "loss = 0.30289000272750854  number 33\n",
      "loss = 0.2561185359954834\n",
      "loss = 0.2561185359954834  number 34\n",
      "loss = 0.3054690361022949\n",
      "loss = 0.3054690361022949  number 35\n",
      "loss = 0.3867849111557007\n",
      "loss = 0.3867849111557007  number 36\n",
      "loss = 0.27288806438446045\n",
      "loss = 0.27288806438446045  number 37\n",
      "loss = 0.3708486557006836\n",
      "loss = 0.3708486557006836  number 38\n",
      "loss = 0.2798912525177002\n",
      "loss = 0.2798912525177002  number 39\n",
      "loss = 0.239864319562912\n",
      "loss = 0.239864319562912  number 40\n",
      "loss = 0.3036811947822571\n",
      "loss = 0.3036811947822571  number 41\n",
      "loss = 0.3184407353401184\n",
      "loss = 0.3184407353401184  number 42\n",
      "loss = 0.2561282813549042\n",
      "loss = 0.2561282813549042  number 43\n",
      "loss = 0.2958303987979889\n",
      "loss = 0.2958303987979889  number 44\n",
      "loss = 0.25243887305259705\n",
      "loss = 0.25243887305259705  number 45\n",
      "loss = 0.2947990894317627\n",
      "loss = 0.2947990894317627  number 46\n",
      "loss = 0.290890097618103\n",
      "loss = 0.290890097618103  number 47\n",
      "loss = 0.2619510293006897\n",
      "loss = 0.2619510293006897  number 48\n",
      "loss = 0.22289611399173737\n",
      "loss = 0.22289611399173737  number 49\n",
      "loss = 0.2906022071838379\n",
      "loss = 0.2906022071838379  number 50\n",
      "loss = 0.2315841168165207\n",
      "loss = 0.2315841168165207  number 51\n",
      "loss = 0.24482843279838562\n",
      "loss = 0.24482843279838562  number 52\n",
      "loss = 0.2624002993106842\n",
      "loss = 0.2624002993106842  number 53\n",
      "loss = 0.26820361614227295\n",
      "loss = 0.26820361614227295  number 54\n",
      "loss = 0.19330252707004547\n",
      "loss = 0.19330252707004547  number 55\n",
      "loss = 0.2567823827266693\n",
      "loss = 0.2567823827266693  number 56\n",
      "loss = 0.21914857625961304\n",
      "loss = 0.21914857625961304  number 57\n",
      "loss = 0.19322936236858368\n",
      "loss = 0.19322936236858368  number 58\n",
      "loss = 0.23309646546840668\n",
      "loss = 0.23309646546840668  number 59\n",
      "loss = 0.1970003843307495\n",
      "loss = 0.1970003843307495  number 60\n",
      "loss = 0.37904417514801025\n",
      "loss = 0.37904417514801025  number 61\n",
      "loss = 0.46055474877357483\n",
      "loss = 0.46055474877357483  number 62\n",
      "loss = 0.42243844270706177\n",
      "loss = 0.42243844270706177  number 63\n",
      "loss = 0.32754504680633545\n",
      "loss = 0.32754504680633545  number 64\n",
      "loss = 0.3202493488788605\n",
      "loss = 0.3202493488788605  number 65\n",
      "loss = 0.26078474521636963\n",
      "loss = 0.26078474521636963  number 66\n",
      "loss = 0.25422996282577515\n",
      "loss = 0.25422996282577515  number 67\n",
      "loss = 0.2611216902732849\n",
      "loss = 0.2611216902732849  number 68\n",
      "loss = 0.17913521826267242\n",
      "loss = 0.17913521826267242  number 69\n",
      "loss = 0.1936449110507965\n",
      "loss = 0.1936449110507965  number 70\n",
      "loss = 0.2305830419063568\n",
      "loss = 0.2305830419063568  number 71\n",
      "loss = 0.2308979332447052\n",
      "loss = 0.2308979332447052  number 72\n",
      "loss = 0.19355231523513794\n",
      "loss = 0.19355231523513794  number 73\n",
      "loss = 0.1772005558013916\n",
      "loss = 0.1772005558013916  number 74\n",
      "loss = 0.19351765513420105\n",
      "loss = 0.19351765513420105  number 75\n",
      "loss = 0.2585996389389038\n",
      "loss = 0.2585996389389038  number 76\n",
      "loss = 0.29049307107925415\n",
      "loss = 0.29049307107925415  number 77\n",
      "loss = 0.33047014474868774\n",
      "loss = 0.33047014474868774  number 78\n",
      "loss = 0.26483675837516785\n",
      "loss = 0.26483675837516785  number 79\n",
      "loss = 0.24212093651294708\n",
      "loss = 0.24212093651294708  number 80\n",
      "loss = 0.21224698424339294\n",
      "loss = 0.21224698424339294  number 81\n",
      "loss = 0.23335020244121552\n",
      "loss = 0.23335020244121552  number 82\n",
      "loss = 0.2231651246547699\n",
      "loss = 0.2231651246547699  number 83\n",
      "loss = 0.21692584455013275\n",
      "loss = 0.21692584455013275  number 84\n",
      "loss = 0.23511803150177002\n",
      "loss = 0.23511803150177002  number 85\n",
      "loss = 0.17614132165908813\n",
      "loss = 0.17614132165908813  number 86\n",
      "loss = 0.22120949625968933\n",
      "loss = 0.22120949625968933  number 87\n",
      "loss = 0.35704946517944336\n",
      "loss = 0.35704946517944336  number 88\n",
      "loss = 0.5637272596359253\n",
      "loss = 0.5637272596359253  number 89\n",
      "loss = 0.23667961359024048\n",
      "loss = 0.23667961359024048  number 90\n",
      "loss = 0.272366464138031\n",
      "loss = 0.272366464138031  number 91\n",
      "loss = 0.20170392096042633\n",
      "loss = 0.20170392096042633  number 92\n",
      "loss = 0.3687579333782196\n",
      "loss = 0.3687579333782196  number 93\n",
      "loss = 0.22985896468162537\n",
      "loss = 0.22985896468162537  number 94\n",
      "loss = 0.3170301616191864\n",
      "loss = 0.3170301616191864  number 95\n",
      "\tTraining set: Average loss: 0.314592\n"
     ]
    }
   ],
   "source": [
    "# Create a UNet model\n",
    "model = UNet(n_channels=20, n_classes = 1)\n",
    "\n",
    "# Use the best available device (GPU/CPU) for training\n",
    "device = 'cuda' if torch.cuda.is_available() else 'cpu'\n",
    "\n",
    "# # Load the weights\n",
    "# home = os.path.expanduser(\"~\")\n",
    "# weights_file = os.path.join(home, \"unet.pt\")\n",
    "#model.load_state_dict(torch.load('/application/pi/unet_trained_new.pt', map_location=device))\n",
    "\n",
    "# Specify the optimizer and  loss criteria\n",
    "optimizer = optim.RMSprop(model.parameters(), lr=0.001)\n",
    "loss_criteria = nn.BCELoss()\n",
    "\n",
    "# Track metrics in these arrays\n",
    "epoch_nums = []\n",
    "training_loss = []\n",
    "\n",
    "epochs = 1\n",
    "print('Training on', device)\n",
    "for epoch in range(1, epochs + 1):\n",
    "        train_loss = train(model, device, train_loader, optimizer, epoch)\n",
    "        epoch_nums.append(epoch)\n",
    "        training_loss.append(train_loss)"
   ]
  },
  {
   "cell_type": "code",
   "execution_count": 18,
   "metadata": {},
   "outputs": [],
   "source": [
    "\n",
    "torch.save(model.state_dict(), '/application/pi/unet_trained_with_indices.pt')"
   ]
  },
  {
   "cell_type": "code",
   "execution_count": 10,
   "metadata": {},
   "outputs": [
    {
     "data": {
      "text/plain": [
       "<All keys matched successfully>"
      ]
     },
     "execution_count": 10,
     "metadata": {},
     "output_type": "execute_result"
    }
   ],
   "source": [
    "#!conda install matplotlib\n",
    "device = 'cuda' if torch.cuda.is_available() else 'cpu'\n",
    "model = UNet(n_channels=20, n_classes = 1)\n",
    "model.load_state_dict(torch.load('/application/pi/unet_trained_with_indices.pt', map_location=device))"
   ]
  },
  {
   "cell_type": "code",
   "execution_count": 12,
   "metadata": {},
   "outputs": [],
   "source": [
    "#model(test_loader.dataset[6][0])"
   ]
  },
  {
   "cell_type": "code",
   "execution_count": 11,
   "metadata": {},
   "outputs": [
    {
     "data": {
      "text/plain": [
       "UNet(\n",
       "  (inc): inconv(\n",
       "    (conv): double_conv(\n",
       "      (conv): Sequential(\n",
       "        (0): Conv2d(20, 64, kernel_size=(3, 3), stride=(1, 1), padding=(1, 1))\n",
       "        (1): BatchNorm2d(64, eps=1e-05, momentum=0.1, affine=True, track_running_stats=True)\n",
       "        (2): ReLU(inplace=True)\n",
       "        (3): Conv2d(64, 64, kernel_size=(3, 3), stride=(1, 1), padding=(1, 1))\n",
       "        (4): BatchNorm2d(64, eps=1e-05, momentum=0.1, affine=True, track_running_stats=True)\n",
       "        (5): ReLU(inplace=True)\n",
       "      )\n",
       "    )\n",
       "  )\n",
       "  (down1): down(\n",
       "    (mpconv): Sequential(\n",
       "      (0): MaxPool2d(kernel_size=2, stride=2, padding=0, dilation=1, ceil_mode=False)\n",
       "      (1): double_conv(\n",
       "        (conv): Sequential(\n",
       "          (0): Conv2d(64, 128, kernel_size=(3, 3), stride=(1, 1), padding=(1, 1))\n",
       "          (1): BatchNorm2d(128, eps=1e-05, momentum=0.1, affine=True, track_running_stats=True)\n",
       "          (2): ReLU(inplace=True)\n",
       "          (3): Conv2d(128, 128, kernel_size=(3, 3), stride=(1, 1), padding=(1, 1))\n",
       "          (4): BatchNorm2d(128, eps=1e-05, momentum=0.1, affine=True, track_running_stats=True)\n",
       "          (5): ReLU(inplace=True)\n",
       "        )\n",
       "      )\n",
       "    )\n",
       "  )\n",
       "  (down2): down(\n",
       "    (mpconv): Sequential(\n",
       "      (0): MaxPool2d(kernel_size=2, stride=2, padding=0, dilation=1, ceil_mode=False)\n",
       "      (1): double_conv(\n",
       "        (conv): Sequential(\n",
       "          (0): Conv2d(128, 256, kernel_size=(3, 3), stride=(1, 1), padding=(1, 1))\n",
       "          (1): BatchNorm2d(256, eps=1e-05, momentum=0.1, affine=True, track_running_stats=True)\n",
       "          (2): ReLU(inplace=True)\n",
       "          (3): Conv2d(256, 256, kernel_size=(3, 3), stride=(1, 1), padding=(1, 1))\n",
       "          (4): BatchNorm2d(256, eps=1e-05, momentum=0.1, affine=True, track_running_stats=True)\n",
       "          (5): ReLU(inplace=True)\n",
       "        )\n",
       "      )\n",
       "    )\n",
       "  )\n",
       "  (down3): down(\n",
       "    (mpconv): Sequential(\n",
       "      (0): MaxPool2d(kernel_size=2, stride=2, padding=0, dilation=1, ceil_mode=False)\n",
       "      (1): double_conv(\n",
       "        (conv): Sequential(\n",
       "          (0): Conv2d(256, 512, kernel_size=(3, 3), stride=(1, 1), padding=(1, 1))\n",
       "          (1): BatchNorm2d(512, eps=1e-05, momentum=0.1, affine=True, track_running_stats=True)\n",
       "          (2): ReLU(inplace=True)\n",
       "          (3): Conv2d(512, 512, kernel_size=(3, 3), stride=(1, 1), padding=(1, 1))\n",
       "          (4): BatchNorm2d(512, eps=1e-05, momentum=0.1, affine=True, track_running_stats=True)\n",
       "          (5): ReLU(inplace=True)\n",
       "        )\n",
       "      )\n",
       "    )\n",
       "  )\n",
       "  (down4): down(\n",
       "    (mpconv): Sequential(\n",
       "      (0): MaxPool2d(kernel_size=2, stride=2, padding=0, dilation=1, ceil_mode=False)\n",
       "      (1): double_conv(\n",
       "        (conv): Sequential(\n",
       "          (0): Conv2d(512, 512, kernel_size=(3, 3), stride=(1, 1), padding=(1, 1))\n",
       "          (1): BatchNorm2d(512, eps=1e-05, momentum=0.1, affine=True, track_running_stats=True)\n",
       "          (2): ReLU(inplace=True)\n",
       "          (3): Conv2d(512, 512, kernel_size=(3, 3), stride=(1, 1), padding=(1, 1))\n",
       "          (4): BatchNorm2d(512, eps=1e-05, momentum=0.1, affine=True, track_running_stats=True)\n",
       "          (5): ReLU(inplace=True)\n",
       "        )\n",
       "      )\n",
       "    )\n",
       "  )\n",
       "  (up1): up(\n",
       "    (conv): double_conv(\n",
       "      (conv): Sequential(\n",
       "        (0): Conv2d(1024, 256, kernel_size=(3, 3), stride=(1, 1), padding=(1, 1))\n",
       "        (1): BatchNorm2d(256, eps=1e-05, momentum=0.1, affine=True, track_running_stats=True)\n",
       "        (2): ReLU(inplace=True)\n",
       "        (3): Conv2d(256, 256, kernel_size=(3, 3), stride=(1, 1), padding=(1, 1))\n",
       "        (4): BatchNorm2d(256, eps=1e-05, momentum=0.1, affine=True, track_running_stats=True)\n",
       "        (5): ReLU(inplace=True)\n",
       "      )\n",
       "    )\n",
       "  )\n",
       "  (up2): up(\n",
       "    (conv): double_conv(\n",
       "      (conv): Sequential(\n",
       "        (0): Conv2d(512, 128, kernel_size=(3, 3), stride=(1, 1), padding=(1, 1))\n",
       "        (1): BatchNorm2d(128, eps=1e-05, momentum=0.1, affine=True, track_running_stats=True)\n",
       "        (2): ReLU(inplace=True)\n",
       "        (3): Conv2d(128, 128, kernel_size=(3, 3), stride=(1, 1), padding=(1, 1))\n",
       "        (4): BatchNorm2d(128, eps=1e-05, momentum=0.1, affine=True, track_running_stats=True)\n",
       "        (5): ReLU(inplace=True)\n",
       "      )\n",
       "    )\n",
       "  )\n",
       "  (up3): up(\n",
       "    (conv): double_conv(\n",
       "      (conv): Sequential(\n",
       "        (0): Conv2d(256, 64, kernel_size=(3, 3), stride=(1, 1), padding=(1, 1))\n",
       "        (1): BatchNorm2d(64, eps=1e-05, momentum=0.1, affine=True, track_running_stats=True)\n",
       "        (2): ReLU(inplace=True)\n",
       "        (3): Conv2d(64, 64, kernel_size=(3, 3), stride=(1, 1), padding=(1, 1))\n",
       "        (4): BatchNorm2d(64, eps=1e-05, momentum=0.1, affine=True, track_running_stats=True)\n",
       "        (5): ReLU(inplace=True)\n",
       "      )\n",
       "    )\n",
       "  )\n",
       "  (up4): up(\n",
       "    (conv): double_conv(\n",
       "      (conv): Sequential(\n",
       "        (0): Conv2d(128, 64, kernel_size=(3, 3), stride=(1, 1), padding=(1, 1))\n",
       "        (1): BatchNorm2d(64, eps=1e-05, momentum=0.1, affine=True, track_running_stats=True)\n",
       "        (2): ReLU(inplace=True)\n",
       "        (3): Conv2d(64, 64, kernel_size=(3, 3), stride=(1, 1), padding=(1, 1))\n",
       "        (4): BatchNorm2d(64, eps=1e-05, momentum=0.1, affine=True, track_running_stats=True)\n",
       "        (5): ReLU(inplace=True)\n",
       "      )\n",
       "    )\n",
       "  )\n",
       "  (outc): outconv(\n",
       "    (conv): Conv2d(64, 1, kernel_size=(1, 1), stride=(1, 1))\n",
       "  )\n",
       ")"
      ]
     },
     "execution_count": 11,
     "metadata": {},
     "output_type": "execute_result"
    }
   ],
   "source": [
    "model.eval()\n"
   ]
  },
  {
   "cell_type": "code",
   "execution_count": null,
   "metadata": {},
   "outputs": [],
   "source": [
    "i = 0\n",
    "for batch_idx, (data, target) in enumerate(test_loader):\n",
    "    data1 = data\n",
    "    target1 = target\n",
    "    if batch_idx%4 ==0:\n",
    "        with torch.no_grad():\n",
    "            output = model(data1)\n",
    "        a=np.array(output[0])\n",
    "        b=np.array(target1[0])\n",
    "        \n",
    "        np.save('/application/pi/Desktop/all imp data/Unet testing/trial_image_'+str(i)+'.npy',a)\n",
    "        np.save('/application/pi/Desktop/all imp data/Unet testing/trial_mask_'+str(i)+'.npy',b)\n",
    "        i = i+1\n",
    "    print(batch_idx)\n",
    "    "
   ]
  },
  {
   "cell_type": "code",
   "execution_count": 29,
   "metadata": {},
   "outputs": [],
   "source": [
    "with torch.no_grad():\n",
    "        output = model(data1)"
   ]
  },
  {
   "cell_type": "code",
   "execution_count": 30,
   "metadata": {},
   "outputs": [],
   "source": [
    "a=np.array(output[0])\n",
    "b=np.array(target1[0])"
   ]
  },
  {
   "cell_type": "code",
   "execution_count": 31,
   "metadata": {},
   "outputs": [],
   "source": [
    "np.save('trial_image3.npy',a)\n",
    "np.save('trial_mask3.npy',b)"
   ]
  },
  {
   "cell_type": "code",
   "execution_count": 11,
   "metadata": {},
   "outputs": [],
   "source": [
    "import numpy as np\n",
    "import matplotlib.pyplot as plt"
   ]
  },
  {
   "cell_type": "code",
   "execution_count": 20,
   "metadata": {},
   "outputs": [],
   "source": [
    "a =np.load('trial_image3.npy')\n",
    "b =np.load('trial_mask3.npy')"
   ]
  },
  {
   "cell_type": "code",
   "execution_count": 21,
   "metadata": {},
   "outputs": [
    {
     "data": {
      "text/plain": [
       "(512, 512)"
      ]
     },
     "execution_count": 21,
     "metadata": {},
     "output_type": "execute_result"
    }
   ],
   "source": [
    "b[0].shape"
   ]
  },
  {
   "cell_type": "code",
   "execution_count": 22,
   "metadata": {},
   "outputs": [
    {
     "data": {
      "text/plain": [
       "<matplotlib.image.AxesImage at 0x7f4b79622730>"
      ]
     },
     "execution_count": 22,
     "metadata": {},
     "output_type": "execute_result"
    },
    {
     "data": {
      "image/png": "[encoded data removed]",
      "text/plain": [
       "<Figure size 432x288 with 1 Axes>"
      ]
     },
     "metadata": {
      "needs_background": "light"
     },
     "output_type": "display_data"
    }
   ],
   "source": [
    "plt.imshow(b[0],cmap ='gray')"
   ]
  },
  {
   "cell_type": "code",
   "execution_count": 23,
   "metadata": {},
   "outputs": [
    {
     "data": {
      "text/plain": [
       "(512, 512)"
      ]
     },
     "execution_count": 23,
     "metadata": {},
     "output_type": "execute_result"
    }
   ],
   "source": [
    "a[0].shape"
   ]
  },
  {
   "cell_type": "code",
   "execution_count": 25,
   "metadata": {},
   "outputs": [
    {
     "data": {
      "text/plain": [
       "<matplotlib.image.AxesImage at 0x7f4b7723b700>"
      ]
     },
     "execution_count": 25,
     "metadata": {},
     "output_type": "execute_result"
    },
    {
     "data": {
      "image/png": "[encoded data removed]",
      "text/plain": [
       "<Figure size 432x288 with 1 Axes>"
      ]
     },
     "metadata": {
      "needs_background": "light"
     },
     "output_type": "display_data"
    }
   ],
   "source": [
    "plt.imshow((a[0]>0.2)*1,cmap ='gray')"
   ]
  },
  {
   "cell_type": "code",
   "execution_count": 34,
   "metadata": {},
   "outputs": [
    {
     "data": {
      "text/plain": [
       "<All keys matched successfully>"
      ]
     },
     "execution_count": 34,
     "metadata": {},
     "output_type": "execute_result"
    }
   ],
   "source": [
    "model2 = UNet(n_channels=20, n_classes = 1)\n",
    "model2.load_state_dict(torch.load('/application/pi/unet_trained_with_indices.pt', map_location=device))\n"
   ]
  },
  {
   "cell_type": "code",
   "execution_count": null,
   "metadata": {},
   "outputs": [],
   "source": []
  }
 ],
 "metadata": {
  "kernelspec": {
   "display_name": "ml_adi",
   "language": "python",
   "name": "ml_adi"
  },
  "language_info": {
   "codemirror_mode": {
    "name": "ipython",
    "version": 3
   },
   "file_extension": ".py",
   "mimetype": "text/x-python",
   "name": "python",
   "nbconvert_exporter": "python",
   "pygments_lexer": "ipython3",
   "version": "3.5.6"
  }
 },
 "nbformat": 4,
 "nbformat_minor": 4
}
